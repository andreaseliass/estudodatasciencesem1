{
 "cells": [
  {
   "cell_type": "markdown",
   "id": "6d3ea3fc",
   "metadata": {},
   "source": [
    "PARTE 1: Sobre a profissão e o universo de dados\n",
    "1. Descreva com suas palavras qual a diferença entre a profissão de cientista,\n",
    "analista e engenheiro de dados? Que tipo de tarefa você imagina que cada um\n",
    "desses faça?\n",
    "\n",
    "O analista de dados faz a coleta e a análise dos dados para que os mesmos possam\n",
    "ser utilizados e aproveitados. Já um engenheiro de dados é responsável pela\n",
    "arquitetura de dados, ele é responsável pela organização e manutenção dos dados.\n",
    "O cientista de dados, por sua vez, realiza análises mais aprofundadas dos dados,\n",
    "análises envolvendo machine learning e predição.\n",
    "\n",
    "2. Por que um cientista de dados é, apesar de tudo, uma pessoa de negócios?\n",
    "\n",
    "Porque o trabalho do cientista de dados também é entender a dor do cliente e como\n",
    "é a melhor forma de ajudá-lo no seu negócio com os dados que ele tem. Bastante\n",
    "tempo do cientista de dados é gasto para entender problemas a serem resolvidos.\n",
    "\n",
    "3. O que é Machine Learning? Que tipo de trabalho de Machine Learning poderia\n",
    "ser feito na área em que você atua? Mencione alguns estudos/modelos que te\n",
    "auxiliariam no dia a dia.\n",
    "\n",
    "Machine Learning refere-se à criação e ao uso de modelos que são aprendidos a\n",
    "partir dos dados. Normalmente, o objetivo é usar os dados existentes para\n",
    "desenvolver modelos que se possa usar para prever possíveis saídas para o dados.\n",
    "Um exemplo de modelo que nos ajuda no dia a dia é o que prevê se uma mensagem\n",
    "de e-mail é spam ou não ou o que prevê se uma transação do cartão de crédito é\n",
    "fraudulenta. Modelos como esses impedem que as pessoas sejam enganadas e que\n",
    "acabem caindo em golpes. Na engenharia de computação, área em que atuo, o\n",
    "machine learning pode ser visto na produção de modelos de carros autônomos, ou\n",
    "seja, carros programados com modelos de machine learning e que têm a\n",
    "capacidade de se autodirigir.\n",
    "\n",
    "4. Qual a utilidade da estatística para alguém que trabalha com data science?\n",
    "\n",
    "Data Science se faz com dados e os dados estão ligados à estatística. \"A Estatística\n",
    "proporciona os meios e as ferramentas para encontrar estrutura em dados, e assim\n",
    "fornecer insights sobre as informações mais profundas ali escondidas. Medidas\n",
    "estatísticas como média, mediana, moda, desvio padrão e distribuição servem para\n",
    "descrever de uma forma generalizada o comportamento das variáveis de trabalho,\n",
    "assim como identificar anomalias. Se os modelos de machine learning são as\n",
    "ferramentas que os cientistas de dados operam, a Estatística é o conhecimento\n",
    "sobre como e porquê essas ferramentas funcionam, que permite escolher as\n",
    "ferramentas mais adequadas, e tirar o melhor proveito delas.\" Trecho retirado de:\n",
    "https://iaexpert.academy/2020/09/14/importancia-da-estatistica-para-ciencia-de-dado\n",
    "s/#:~:text=A%20Estat%C3%ADstica%20proporciona%20os%20meios,informa%C3\n",
    "%A7%C3%B5es%20mais%20profundas%20ali%20escondidas.\n",
    "\n",
    "PARTE 2: Conhecendo o Python e o Jupyter Notebook\n",
    "\n",
    "5. Demonstre como realizar no Python as seguintes operações: soma, subtração,\n",
    "multiplicação, divisão, exponenciação e raiz quadrada.\n",
    "\n",
    "Soma: operador +, exemplo: 2+2\n",
    "\n",
    "Subtração: operador -, exemplo 2-2\n",
    "\n",
    "Multiplicação: operador *, exemplo 2 * 2,\n",
    "\n",
    "Exponenciação: operador **, exemplo 2 ** 2\n",
    "\n",
    "raiz quadrada: ou fazer a exponenciação por 0.5, exemplo 4**0.5, ou importar o\n",
    "módulo math e usar math.sqrt(x), exemplo: math.sqrt(4)"
   ]
  },
  {
   "cell_type": "code",
   "execution_count": 81,
   "id": "9fb6c3a1",
   "metadata": {},
   "outputs": [
    {
     "name": "stdout",
     "output_type": "stream",
     "text": [
      "soma:  4\n",
      "subtração:  0\n",
      "multiplicação :  4\n",
      "exponenciação:  4\n",
      "raiz quadrada 1 :  2.0\n",
      "raiz quadrada 2 :  2.0\n"
     ]
    }
   ],
   "source": [
    "#Soma\n",
    "print('soma: ', 2+2)\n",
    "\n",
    "#Subtração\n",
    "print('subtração: ', 2-2)\n",
    "\n",
    "#Multiplicação\n",
    "print('multiplicação : ', 2*2)\n",
    "\n",
    "#Exponenciação\n",
    "print('exponenciação: ', 2*2)\n",
    "\n",
    "#Raiza Quadrada\n",
    "print('raiz quadrada 1 : ', 4**0.5)\n",
    "#ou\n",
    "import math\n",
    "print('raiz quadrada 2 : ', math.sqrt(4))\n"
   ]
  },
  {
   "cell_type": "markdown",
   "id": "2a34b5d6",
   "metadata": {},
   "source": [
    "6. Qual operador utilizamos para obter o resto de uma divisão no Python?\n",
    "O %. Por exemplo, para se saber o resto da divisão de 10 por 3, faz-se 10%3. O\n",
    "resultado obtido será o resto da divisão de 10 por 3, ou seja, 1.\n"
   ]
  },
  {
   "cell_type": "code",
   "execution_count": 82,
   "id": "cff5f633",
   "metadata": {},
   "outputs": [
    {
     "name": "stdout",
     "output_type": "stream",
     "text": [
      "resto da divisão de 10 por 3:  1\n"
     ]
    }
   ],
   "source": [
    "print('resto da divisão de 10 por 3: ', 10%3)"
   ]
  },
  {
   "cell_type": "markdown",
   "id": "f90d0918",
   "metadata": {},
   "source": [
    "8. Qual a diferença entre o objeto x = 2, y = 2.0 e z = '2.0'?\n",
    "\n",
    "x é um inteiro, y é um float e z é uma string."
   ]
  },
  {
   "cell_type": "code",
   "execution_count": 83,
   "id": "d9644668",
   "metadata": {},
   "outputs": [
    {
     "name": "stdout",
     "output_type": "stream",
     "text": [
      "tipo de x:  <class 'int'>\n",
      "tipo de y:  <class 'float'>\n",
      "tipo de z:  <class 'str'>\n"
     ]
    }
   ],
   "source": [
    "x = 2\n",
    "y = 2.0 \n",
    "z = '2.0'\n",
    "\n",
    "print('tipo de x: ', type(x))\n",
    "print('tipo de y: ', type(y))\n",
    "print('tipo de z: ', type(z))"
   ]
  },
  {
   "cell_type": "markdown",
   "id": "d1ba7b7f",
   "metadata": {},
   "source": [
    "9. O que acontece se escrevermos 2++2 ao invés de 2+2? E se fizermos 2 - - 2? E\n",
    "2==2 ou 2 2? Verifique o output de cada situação.\n",
    "\n",
    "2++2 resulta em 4, 2 - - 2 também resulta em 4, 2==2 resulta em True e 2 2 resulta\n",
    "em erro de sintaxe (sintaxe inválida)."
   ]
  },
  {
   "cell_type": "code",
   "execution_count": 84,
   "id": "63f6659b",
   "metadata": {},
   "outputs": [
    {
     "data": {
      "text/plain": [
       "4"
      ]
     },
     "execution_count": 84,
     "metadata": {},
     "output_type": "execute_result"
    }
   ],
   "source": [
    "2++2\n"
   ]
  },
  {
   "cell_type": "code",
   "execution_count": 85,
   "id": "351547bf",
   "metadata": {},
   "outputs": [
    {
     "data": {
      "text/plain": [
       "4"
      ]
     },
     "execution_count": 85,
     "metadata": {},
     "output_type": "execute_result"
    }
   ],
   "source": [
    "2--2"
   ]
  },
  {
   "cell_type": "code",
   "execution_count": 86,
   "id": "70a7739e",
   "metadata": {},
   "outputs": [
    {
     "data": {
      "text/plain": [
       "True"
      ]
     },
     "execution_count": 86,
     "metadata": {},
     "output_type": "execute_result"
    }
   ],
   "source": [
    "2==2 \n"
   ]
  },
  {
   "cell_type": "code",
   "execution_count": 87,
   "id": "ac23a78f",
   "metadata": {},
   "outputs": [
    {
     "ename": "SyntaxError",
     "evalue": "invalid syntax (2247483597.py, line 1)",
     "output_type": "error",
     "traceback": [
      "\u001b[1;36m  Input \u001b[1;32mIn [87]\u001b[1;36m\u001b[0m\n\u001b[1;33m    2 2\u001b[0m\n\u001b[1;37m      ^\u001b[0m\n\u001b[1;31mSyntaxError\u001b[0m\u001b[1;31m:\u001b[0m invalid syntax\n"
     ]
    }
   ],
   "source": [
    "2 2\n"
   ]
  },
  {
   "cell_type": "markdown",
   "id": "8bb48cf4",
   "metadata": {},
   "source": [
    "10. É possível escrever 02 ao invés de apenas 2 no Python?\n",
    "\n",
    "Não, resulta num erro de sintaxe informando que zeros à esquerda em inteiros\n",
    "decimais não são permitidos. (SyntaxError: leading zeros in decimal integer literals are\n",
    "not permitted; use an 0o prefix for octal integers)."
   ]
  },
  {
   "cell_type": "code",
   "execution_count": null,
   "id": "5da71d5a",
   "metadata": {},
   "outputs": [
    {
     "ename": "SyntaxError",
     "evalue": "leading zeros in decimal integer literals are not permitted; use an 0o prefix for octal integers (2411615945.py, line 1)",
     "output_type": "error",
     "traceback": [
      "\u001b[0;36m  File \u001b[0;32m\"/tmp/ipykernel_320/2411615945.py\"\u001b[0;36m, line \u001b[0;32m1\u001b[0m\n\u001b[0;31m    02\u001b[0m\n\u001b[0m     ^\u001b[0m\n\u001b[0;31mSyntaxError\u001b[0m\u001b[0;31m:\u001b[0m leading zeros in decimal integer literals are not permitted; use an 0o prefix for octal integers\n"
     ]
    }
   ],
   "source": [
    "02"
   ]
  },
  {
   "cell_type": "markdown",
   "id": "e2738638",
   "metadata": {},
   "source": [
    "11. Crie uma variável chamada bônus (sem acento mesmo) que possui valor 50000. Digamos que esse é o registro do bônus dos trabalhadores da sua firma. A inflação no ano foi de 11%. Depois de criar a variável bônus em uma célula, altere seu valor na célula seguinte para que acompanhe a inflação. I.e., ajuste o valor da variável para que ele seja 11% acima de 50000 (1,11 x 50000)."
   ]
  },
  {
   "cell_type": "code",
   "execution_count": 88,
   "id": "5b7bd238",
   "metadata": {},
   "outputs": [
    {
     "name": "stdout",
     "output_type": "stream",
     "text": [
      "55500.00000000001\n"
     ]
    }
   ],
   "source": [
    "bonus = 50000\n",
    "bonus = bonus * 1.11\n",
    "print(bonus)"
   ]
  },
  {
   "cell_type": "markdown",
   "id": "6dfad0e1",
   "metadata": {},
   "source": [
    "PARTE 3: Questões éticas\n",
    "\n",
    "12. Cite alguns problemas que a não-proteção dos dados pode trazer para as\n",
    "pessoas.\n",
    "O vazamento de dados pode acarretar vários problemas àqueles que têm seus\n",
    "dados vazados. Dados vazados de cartão de crédito, por exemplo, podem acarretar\n",
    "prejuízos ao dono dos dados, pois pessoas mal intencionadas podem utilizar esses\n",
    "dados para fazer compras sem pagarem elas mesmas pela compras. Dados\n",
    "vazados sobre a vida íntima de alguém podem resultar em prejuízos na vida social e\n",
    "profissional, pois há dados que se revelados acabam ocasionando que o dono dos\n",
    "dados sofram preconceito ou, até mesmo, chantagem.\n",
    "\n",
    "\n",
    "13. Como o Machine Learning pode piorar a situação das pessoas?\n",
    "\n",
    "Os algoritmos de machine learning são criados usando dados do passado em seu\n",
    "treinamento. O que pode ocorrer é que o algoritmo, por usar dados passados, acabe\n",
    "atuando para repetir o passado, ou seja, criando padrões racistas e sexistas ao\n",
    "invés de atuar para combatê-los.\n",
    "\n",
    "\n",
    "14. Cite um exemplo de risco do mau uso de Machine Learning na sua área de\n",
    "atuação ou formação.\n",
    "\n",
    "Estou me formando no curso de Engenharia de Computação. Posso citar o caso da\n",
    "robô Tay, inteligência artificial da Microsoft. Em 24 horas de contato com usuários do\n",
    "twitter, a inteligência artificial passou a ter falas racistas, nazistas, machistas e\n",
    "transfóbicas, pois os usuários do twitter a treinaram dessa forma. Esse é um\n",
    "problema de deixar os algoritmos aprenderem por si próprios. \n",
    "\n",
    "15. Que tipos de problemas o reconhecimento facial vem causando a certas\n",
    "minorias?\n",
    "\n",
    "Como o algoritmo de reconhecimento facial é treinado com dados e a maioria dos\n",
    "dados que certos algoritmos de reconhecimento facial estão recebendo são em sua\n",
    "maioria de homens brancos, os algoritmos de reconhecimento facial muitas vezes\n",
    "não reconhecem pessoas negras de forma correta, tendo ainda mais dificuldade\n",
    "quando são mulheres negras. Isso pode dificultar o acesso dessas pessoas a\n",
    "sistemas que usem reconhecimento facial (como em bancos, por exemplo). Além\n",
    "disso, muitos sistemas de reconhecimento facial identificam erroneamente as\n",
    "pessoas como sendo criminosas, quando na verdade elas não são, causando\n",
    "problemas principalmente para pessoas negras, por justamente os sistemas de\n",
    "reconhecimento facial detectarem rostos de pessoas negras com menor acurácia."
   ]
  }
 ],
 "metadata": {
  "kernelspec": {
   "display_name": "Python 3 (ipykernel)",
   "language": "python",
   "name": "python3"
  },
  "language_info": {
   "codemirror_mode": {
    "name": "ipython",
    "version": 3
   },
   "file_extension": ".py",
   "mimetype": "text/x-python",
   "name": "python",
   "nbconvert_exporter": "python",
   "pygments_lexer": "ipython3",
   "version": "3.10.4"
  }
 },
 "nbformat": 4,
 "nbformat_minor": 5
}
